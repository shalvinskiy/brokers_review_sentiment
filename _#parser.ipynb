{
 "cells": [
  {
   "cell_type": "markdown",
   "metadata": {},
   "source": [
    "# Парсинг сайта banki.ru"
   ]
  },
  {
   "cell_type": "markdown",
   "metadata": {},
   "source": [
    "### Установка библиотек\n",
    "Если вы не знаете установлены эти библиотеки или нет, то установите еще раз (второй раз установки ничего не сломает)"
   ]
  },
  {
   "cell_type": "code",
   "execution_count": 2,
   "metadata": {},
   "outputs": [
    {
     "name": "stdout",
     "output_type": "stream",
     "text": [
      "Requirement already satisfied: requests in c:\\users\\admin\\.conda\\envs\\myenv310\\lib\\site-packages (2.28.1)\n",
      "Requirement already satisfied: charset-normalizer<3,>=2 in c:\\users\\admin\\.conda\\envs\\myenv310\\lib\\site-packages (from requests) (2.0.4)\n",
      "Requirement already satisfied: idna<4,>=2.5 in c:\\users\\admin\\.conda\\envs\\myenv310\\lib\\site-packages (from requests) (3.3)\n",
      "Requirement already satisfied: urllib3<1.27,>=1.21.1 in c:\\users\\admin\\.conda\\envs\\myenv310\\lib\\site-packages (from requests) (1.26.11)\n",
      "Requirement already satisfied: certifi>=2017.4.17 in c:\\users\\admin\\.conda\\envs\\myenv310\\lib\\site-packages (from requests) (2023.5.7)\n",
      "Note: you may need to restart the kernel to use updated packages.\n"
     ]
    },
    {
     "name": "stderr",
     "output_type": "stream",
     "text": [
      "WARNING: Ignoring invalid distribution -atplotlib (c:\\users\\admin\\.conda\\envs\\myenv310\\lib\\site-packages)\n",
      "WARNING: Ignoring invalid distribution -atplotlib (c:\\users\\admin\\.conda\\envs\\myenv310\\lib\\site-packages)\n",
      "\n",
      "[notice] A new release of pip is available: 23.2 -> 23.2.1\n",
      "[notice] To update, run: python.exe -m pip install --upgrade pip\n"
     ]
    },
    {
     "name": "stdout",
     "output_type": "stream",
     "text": [
      "Requirement already satisfied: pandas in c:\\users\\admin\\.conda\\envs\\myenv310\\lib\\site-packages (1.5.3)\n",
      "Requirement already satisfied: python-dateutil>=2.8.1 in c:\\users\\admin\\.conda\\envs\\myenv310\\lib\\site-packages (from pandas) (2.8.2)\n",
      "Requirement already satisfied: pytz>=2020.1 in c:\\users\\admin\\.conda\\envs\\myenv310\\lib\\site-packages (from pandas) (2022.7)\n",
      "Requirement already satisfied: numpy>=1.21.0 in c:\\users\\admin\\.conda\\envs\\myenv310\\lib\\site-packages (from pandas) (1.22.4)\n",
      "Requirement already satisfied: six>=1.5 in c:\\users\\admin\\.conda\\envs\\myenv310\\lib\\site-packages (from python-dateutil>=2.8.1->pandas) (1.16.0)\n",
      "Note: you may need to restart the kernel to use updated packages.\n"
     ]
    },
    {
     "name": "stderr",
     "output_type": "stream",
     "text": [
      "WARNING: Ignoring invalid distribution -atplotlib (c:\\users\\admin\\.conda\\envs\\myenv310\\lib\\site-packages)\n",
      "WARNING: Ignoring invalid distribution -atplotlib (c:\\users\\admin\\.conda\\envs\\myenv310\\lib\\site-packages)\n",
      "\n",
      "[notice] A new release of pip is available: 23.2 -> 23.2.1\n",
      "[notice] To update, run: python.exe -m pip install --upgrade pip\n"
     ]
    },
    {
     "name": "stdout",
     "output_type": "stream",
     "text": [
      "Note: you may need to restart the kernel to use updated packages.\n"
     ]
    },
    {
     "name": "stderr",
     "output_type": "stream",
     "text": [
      "WARNING: Ignoring invalid distribution -atplotlib (c:\\users\\admin\\.conda\\envs\\myenv310\\lib\\site-packages)\n",
      "ERROR: Could not find a version that satisfies the requirement time (from versions: none)\n",
      "ERROR: No matching distribution found for time\n",
      "\n",
      "[notice] A new release of pip is available: 23.2 -> 23.2.1\n",
      "[notice] To update, run: python.exe -m pip install --upgrade pip\n"
     ]
    },
    {
     "name": "stdout",
     "output_type": "stream",
     "text": [
      "Collecting ssl\n",
      "  Downloading ssl-1.16.tar.gz (33 kB)\n",
      "  Preparing metadata (setup.py): started\n",
      "  Preparing metadata (setup.py): finished with status 'error'\n",
      "Note: you may need to restart the kernel to use updated packages.\n"
     ]
    },
    {
     "name": "stderr",
     "output_type": "stream",
     "text": [
      "WARNING: Ignoring invalid distribution -atplotlib (c:\\users\\admin\\.conda\\envs\\myenv310\\lib\\site-packages)\n",
      "  error: subprocess-exited-with-error\n",
      "  \n",
      "  × python setup.py egg_info did not run successfully.\n",
      "  │ exit code: 1\n",
      "  ╰─> [25 lines of output]\n",
      "      Traceback (most recent call last):\n",
      "        File \"<string>\", line 2, in <module>\n",
      "        File \"<pip-setuptools-caller>\", line 14, in <module>\n",
      "        File \"c:\\Users\\Admin\\.conda\\envs\\myenv310\\lib\\site-packages\\setuptools\\__init__.py\", line 270, in <module>\n",
      "          monkey.patch_all()\n",
      "        File \"c:\\Users\\Admin\\.conda\\envs\\myenv310\\lib\\site-packages\\setuptools\\monkey.py\", line 97, in patch_all\n",
      "          patch_for_msvc_specialized_compiler()\n",
      "        File \"c:\\Users\\Admin\\.conda\\envs\\myenv310\\lib\\site-packages\\setuptools\\monkey.py\", line 157, in patch_for_msvc_specialized_compiler\n",
      "          patch_func(*msvc14('_get_vc_env'))\n",
      "        File \"c:\\Users\\Admin\\.conda\\envs\\myenv310\\lib\\site-packages\\setuptools\\monkey.py\", line 147, in patch_params\n",
      "          mod = import_module(mod_name)\n",
      "        File \"c:\\Users\\Admin\\.conda\\envs\\myenv310\\lib\\importlib\\__init__.py\", line 126, in import_module\n",
      "          return _bootstrap._gcd_import(name[level:], package, level)\n",
      "        File \"c:\\Users\\Admin\\.conda\\envs\\myenv310\\lib\\site-packages\\setuptools\\_distutils\\_msvccompiler.py\", line 20, in <module>\n",
      "          import unittest.mock as mock\n",
      "        File \"c:\\Users\\Admin\\.conda\\envs\\myenv310\\lib\\unittest\\mock.py\", line 26, in <module>\n",
      "          import asyncio\n",
      "        File \"c:\\Users\\Admin\\.conda\\envs\\myenv310\\lib\\asyncio\\__init__.py\", line 8, in <module>\n",
      "          from .base_events import *\n",
      "        File \"c:\\Users\\Admin\\.conda\\envs\\myenv310\\lib\\asyncio\\base_events.py\", line 34, in <module>\n",
      "          import ssl\n",
      "        File \"C:\\Users\\Admin\\AppData\\Local\\Temp\\pip-install-wllnb2kg\\ssl_a76ebb37d11f43bc9dbd03d72614d434\\ssl\\__init__.py\", line 140\n",
      "          except SSLError, x:\n",
      "                 ^^^^^^^^^^^\n",
      "      SyntaxError: multiple exception types must be parenthesized\n",
      "      [end of output]\n",
      "  \n",
      "  note: This error originates from a subprocess, and is likely not a problem with pip.\n",
      "error: metadata-generation-failed\n",
      "\n",
      "× Encountered error while generating package metadata.\n",
      "╰─> See above for output.\n",
      "\n",
      "note: This is an issue with the package mentioned above, not pip.\n",
      "hint: See above for details.\n",
      "\n",
      "[notice] A new release of pip is available: 23.2 -> 23.2.1\n",
      "[notice] To update, run: python.exe -m pip install --upgrade pip\n"
     ]
    },
    {
     "name": "stdout",
     "output_type": "stream",
     "text": [
      "Collecting bs4\n",
      "  Downloading bs4-0.0.1.tar.gz (1.1 kB)\n",
      "  Preparing metadata (setup.py): started\n",
      "  Preparing metadata (setup.py): finished with status 'done'\n",
      "Requirement already satisfied: beautifulsoup4 in c:\\users\\admin\\.conda\\envs\\myenv310\\lib\\site-packages (from bs4) (4.11.1)\n",
      "Requirement already satisfied: soupsieve>1.2 in c:\\users\\admin\\.conda\\envs\\myenv310\\lib\\site-packages (from beautifulsoup4->bs4) (2.3.1)\n",
      "Building wheels for collected packages: bs4\n",
      "  Building wheel for bs4 (setup.py): started\n",
      "  Building wheel for bs4 (setup.py): finished with status 'done'\n",
      "  Created wheel for bs4: filename=bs4-0.0.1-py3-none-any.whl size=1257 sha256=247c4998029ac5432775f1bd51cab8e80f75e8dcb45efb7586132833509085a6\n",
      "  Stored in directory: c:\\users\\admin\\appdata\\local\\pip\\cache\\wheels\\25\\42\\45\\b773edc52acb16cd2db4cf1a0b47117e2f69bb4eb300ed0e70\n",
      "Successfully built bs4\n",
      "Installing collected packages: bs4\n",
      "Successfully installed bs4-0.0.1\n",
      "Note: you may need to restart the kernel to use updated packages.\n"
     ]
    },
    {
     "name": "stderr",
     "output_type": "stream",
     "text": [
      "WARNING: Ignoring invalid distribution -atplotlib (c:\\users\\admin\\.conda\\envs\\myenv310\\lib\\site-packages)\n",
      "WARNING: Ignoring invalid distribution -atplotlib (c:\\users\\admin\\.conda\\envs\\myenv310\\lib\\site-packages)\n",
      "\n",
      "[notice] A new release of pip is available: 23.2 -> 23.2.1\n",
      "[notice] To update, run: python.exe -m pip install --upgrade pip\n"
     ]
    },
    {
     "name": "stdout",
     "output_type": "stream",
     "text": [
      "Requirement already satisfied: openpyxl in c:\\users\\admin\\.conda\\envs\\myenv310\\lib\\site-packages (3.1.2)\n",
      "Requirement already satisfied: et-xmlfile in c:\\users\\admin\\.conda\\envs\\myenv310\\lib\\site-packages (from openpyxl) (1.1.0)\n",
      "Note: you may need to restart the kernel to use updated packages.\n"
     ]
    },
    {
     "name": "stderr",
     "output_type": "stream",
     "text": [
      "WARNING: Ignoring invalid distribution -atplotlib (c:\\users\\admin\\.conda\\envs\\myenv310\\lib\\site-packages)\n",
      "WARNING: Ignoring invalid distribution -atplotlib (c:\\users\\admin\\.conda\\envs\\myenv310\\lib\\site-packages)\n",
      "\n",
      "[notice] A new release of pip is available: 23.2 -> 23.2.1\n",
      "[notice] To update, run: python.exe -m pip install --upgrade pip\n"
     ]
    }
   ],
   "source": [
    "%pip install requests\n",
    "%pip install pandas\n",
    "%pip install time\n",
    "%pip install ssl\n",
    "%pip install bs4\n",
    "%pip install openpyxl"
   ]
  },
  {
   "cell_type": "markdown",
   "metadata": {},
   "source": [
    "### Импорты библиотек"
   ]
  },
  {
   "cell_type": "code",
   "execution_count": 16,
   "metadata": {},
   "outputs": [],
   "source": [
    "import requests\n",
    "from bs4 import BeautifulSoup\n",
    "import pandas as pd\n",
    "import ssl\n",
    "\n",
    "import time as t\n",
    "from tqdm import tqdm "
   ]
  },
  {
   "cell_type": "markdown",
   "metadata": {},
   "source": [
    "### Код с опробированием методов"
   ]
  },
  {
   "cell_type": "code",
   "execution_count": 9,
   "metadata": {},
   "outputs": [],
   "source": [
    "#url = 'https://banki.ru/insurance/responses/company/sberbankstrahovaniezhizni'\n",
    "url = 'https://www.banki.ru/investment/responses/company/broker/bks/?page=2&isMobile=0' #tcs # \n",
    "#https://www.banki.ru/investment/responses/company/broker/vtb/\n",
    "# https://www.banki.ru/investment/responses/company/broker/alfa-direkt/\n",
    "r = requests.get(url)"
   ]
  },
  {
   "cell_type": "code",
   "execution_count": 11,
   "metadata": {},
   "outputs": [
    {
     "data": {
      "text/plain": [
       "<article class=\"responses__item\" data-id=\"31117\" data-state=\"collapsed\" data-test=\"responses-item\" ng-non-bindable=\"\">\n",
       "<div class=\"flexbox flexbox--row flexbox--gap_xxsmall flexbox--align-items_flex-start\">\n",
       "<a class=\"header-h3\" data-test=\"responses-header\" href=\"/investment/responses/company/response/31117/\">Выгодно покупать паи в фондах</a>\n",
       "</div>\n",
       "<div class=\"margin-top-xx-small color-gray-burn\">\n",
       "<div class=\"flexbox flexbox--inline flexbox--row flexbox--gap_xsmall flexbox--align-items_baseline\">\n",
       "<span class=\"text-label\" data-test=\"responses-estimate\">Оценка:</span>\n",
       "<span class=\"rating-grade rating-grade--small rating-grade--hollow rating-grade--value-4\" data-test=\"responses-rating-grade\">\n",
       "\t\t\t4\n",
       "\t\t</span>\n",
       "<span class=\"text-label\" data-test=\"responses-status\">\n",
       "\t\t\t\t\t\t\tПроверяется\n",
       "\t\t\t\t\t</span>\n",
       "</div>\n",
       "</div>\n",
       "<div class=\"responses__item__message\" data-preview=\"\" data-test=\"responses-message\">\n",
       "\t\t\t\t\t\t\tПрогуглил все предложения биржевых операторов, поскольку мой вообще перестал устраивать. Оценил по достоинству БКС, один из самых старых брокеров. Причем, тариф сейчас предлагают бесплатный, прозрачный без скрытых неожиданностей. Перевести бумаги было несложно, сотрудники БКС в этом помогли. Сделки происходят через приложение. Выбор продуктов обширный. Наконец-то привёл в порядок свой портфель. Уже имея некоторый опыт, выбрать нужное несложно.<br/>...\n",
       "\t\t\t\t\t\t\t<span class=\"pseudo-link\" data-click=\"expand\">Читать далее</span>\n",
       "</div>\n",
       "<div class=\"responses__item__message markup-inside-small markup-inside-small--bullet\" data-full=\"\">\n",
       "\t\t\t\t\t\t\tПрогуглил все предложения биржевых операторов, поскольку мой вообще перестал устраивать. Оценил по достоинству БКС, один из самых старых брокеров. Причем, тариф сейчас предлагают бесплатный, прозрачный без скрытых неожиданностей. Перевести бумаги было несложно, сотрудники БКС в этом помогли. Сделки происходят через приложение. Выбор продуктов обширный. Наконец-то привёл в порядок свой портфель. Уже имея некоторый опыт, выбрать нужное несложно.<br/><br/>Для продвинутых готовое тоже есть. Выгодно покупать паи в фондах, средняя цена за пай 500 р. Приобрел себе \"БКС капитал\", в нем несколько российских активов в долгосрок. С рынком разобрался, теперь пару слов о поддержке - всегда быстро отвечают в чате, при этом за мной закреплен ещё и фин.советник, которому можно и писать, и звонить. В общей картине, доволен брокером.\n",
       "\t\t\t\t\t\t</div>\n",
       "<div class=\"response-thread\">\n",
       "<div class=\"response-thread-item response-thread-item--company-type\">\n",
       "<header class=\"thread-item__header\">\n",
       "<span class=\"thread-item__user\">БКС Мир Инвестиций</span>\n",
       "<time class=\"thread-item__time\" datetime=\"2023-08-31 22:03:58\">31.08.2023 22:03</time>\n",
       "</header>\n",
       "<div class=\"thread-item__text\">Здравствуйте!<br/><br/>Благодарим за отзыв и высокую оценку нашей работы. Мы рады, что вы сделали выбор в пользу нашей компании и по достоинству оценили качество предоставляемого обслуживания.<br/>Надеемся на долгосрочное сотрудничество и желаем вам успешных инвестиций.<br/><br/>С уважением,<br/>БКС Мир инвестиций</div>\n",
       "</div>\n",
       "</div>\n",
       "<footer class=\"flexbox flexbox--row flexbox--gap_default\">\n",
       "<div class=\"responses__item__info\" data-test=\"responses-item-info\">\n",
       "<time class=\"display-inline-block\" data-test=\"responses-datetime\">31.08.2023 2:22</time>\n",
       "<span class=\"ui-bull-sep\"></span>\n",
       "<div class=\"responses__item__comment\" data-test=\"responses-item-comment\">\n",
       "<a href=\"/investment/responses/company/response/31117/#comments\">Комментировать</a>\n",
       "</div>\n",
       "</div>\n",
       "<div>\n",
       "<div class=\"inline-elements--small expand-panel-toggler-wrapper\" data-click=\"expand\" data-test=\"responses-expand-arrow\" title=\"развернуть\">\n",
       "<span class=\"icon-font icon-checkmark-circled-16 icon-font--size_small color-green\"></span>\n",
       "<span class=\"pseudo-link\">Ответ компании</span>\n",
       "<span class=\"expand-panel-toggler\">\n",
       "<span class=\"icon-font icon-arrow-down-16 icon-font--size_small\"></span>\n",
       "</span>\n",
       "</div>\n",
       "<div class=\"inline-elements--xxsmall expand-panel-toggler-wrapper\" data-click=\"collapse\" title=\"свернуть\">\n",
       "<span class=\"icon-font icon-checkmark-circled-16 icon-font--size_small color-green\"></span>\n",
       "<span class=\"pseudo-link\">Ответ компании</span>\n",
       "<span class=\"expand-panel-toggler\">\n",
       "<span class=\"icon-font icon-arrow-top-16 icon-font--size_small\"></span>\n",
       "</span>\n",
       "</div>\n",
       "</div>\n",
       "</footer>\n",
       "</article>"
      ]
     },
     "execution_count": 11,
     "metadata": {},
     "output_type": "execute_result"
    }
   ],
   "source": [
    "soup = BeautifulSoup(r.text)\n",
    "article = soup.find('article')\n",
    "article"
   ]
  },
  {
   "cell_type": "code",
   "execution_count": 6,
   "metadata": {},
   "outputs": [
    {
     "data": {
      "text/plain": [
       "'Отзыв про доверительное управление'"
      ]
     },
     "execution_count": 6,
     "metadata": {},
     "output_type": "execute_result"
    }
   ],
   "source": [
    "header = article.find('a', {'data-test': 'responses-header'}).text\n",
    "header"
   ]
  },
  {
   "cell_type": "code",
   "execution_count": 9,
   "metadata": {},
   "outputs": [
    {
     "data": {
      "text/plain": [
       "'/insurance/responses/company/response/84750/'"
      ]
     },
     "execution_count": 9,
     "metadata": {},
     "output_type": "execute_result"
    }
   ],
   "source": [
    "href = article.find('a', {'data-test': 'responses-header'}).get('href')\n",
    "href"
   ]
  },
  {
   "cell_type": "code",
   "execution_count": 34,
   "metadata": {},
   "outputs": [],
   "source": [
    "# article.find?"
   ]
  },
  {
   "cell_type": "code",
   "execution_count": 7,
   "metadata": {},
   "outputs": [
    {
     "data": {
      "text/plain": [
       "'Не экономист и не финансист, но очень уж хотелось, чтобы деньги мои работали. Достались деньги не просто так, со студенчества каждую копейку берег, на вклад клал. А сейчас проценты по вкладам просто смешные, поэтому присмотрелся к доверительному управлению. Не лезу и не стараюсь разобраться – просто периодически смотрю за ростом портфеля. Я лучше свою работу буду делать и добавлять туда деньги, а умные люди их прибавлять. Нравится, что никто не обещает 100% годовых – честным способом таких результатов не бывает, это нужно понимать. Но то, что доход будет выше инфляции – это точно. С БКС ваши деньги в надежных руках, проверено лично.'"
      ]
     },
     "execution_count": 7,
     "metadata": {},
     "output_type": "execute_result"
    }
   ],
   "source": [
    "article.find('div', {'class':'responses__item__message markup-inside-small markup-inside-small--bullet'}).text.strip()"
   ]
  },
  {
   "cell_type": "markdown",
   "metadata": {},
   "source": []
  },
  {
   "cell_type": "code",
   "execution_count": 46,
   "metadata": {},
   "outputs": [
    {
     "data": {
      "text/plain": [
       "'15.09.2023'"
      ]
     },
     "execution_count": 46,
     "metadata": {},
     "output_type": "execute_result"
    }
   ],
   "source": [
    "article.find('time', {'data-test': 'responses-datetime'}).text.split()[0]"
   ]
  },
  {
   "cell_type": "code",
   "execution_count": 47,
   "metadata": {},
   "outputs": [
    {
     "data": {
      "text/plain": [
       "('/investment/responses/company/response/31320/',\n",
       " 'Выбрал стратегию доверительного управления',\n",
       " 'Давно хотел попробовать доверительное управление, у моего брокера такого нет. Поискал в интернете , у БКС такой функционал есть. Не люблю дистанционно консультироваться, пришел в ближайший офис. Меня проконсультировали, предоставили большой выбор стратегий по доверительному управлению, но немного снижу оценку из-за того, что консультация показалась затянутой. По итогу, выбрал “стратегии малой и средней капитализации”, в составе 5 российских активов. Предположительная доходность высокая, за всем следит управляющий. В целом, все ок, посмотрим, что будет дальше.',\n",
       " '15.09.2023',\n",
       " '4',\n",
       " None,\n",
       " 'Проверяется')"
      ]
     },
     "execution_count": 47,
     "metadata": {},
     "output_type": "execute_result"
    }
   ],
   "source": [
    "href = article.find('a', {'data-test': 'responses-header'}).get('href')\n",
    "header = article.find('a', {'data-test': 'responses-header'}).text\n",
    "text = article.find('div', {'class':'responses__item__message markup-inside-small markup-inside-small--bullet'}).text.strip()\n",
    "time = article.find('time', {'data-test': 'responses-datetime'}).text.split()[0]\n",
    "\n",
    "try:\n",
    "    rating = article.find('span', {'data-test': 'responses-rating-grade'}).text.strip()\n",
    "except:\n",
    "    rating = None\n",
    "try:\n",
    "    rating_payouts = article.find('strong', {'class': 'font-size-medium'}).text.strip()\n",
    "except:\n",
    "    rating_payouts = None\n",
    "try:\n",
    "    rating_status = article.find('span', {'data-test': 'responses-status'}).text.strip()\n",
    "except:\n",
    "    rating_status = None\n",
    "\n",
    "href, header, text, time, rating, rating_payouts, rating_status"
   ]
  },
  {
   "cell_type": "code",
   "execution_count": 8,
   "metadata": {},
   "outputs": [
    {
     "data": {
      "text/html": [
       "<div>\n",
       "<style scoped>\n",
       "    .dataframe tbody tr th:only-of-type {\n",
       "        vertical-align: middle;\n",
       "    }\n",
       "\n",
       "    .dataframe tbody tr th {\n",
       "        vertical-align: top;\n",
       "    }\n",
       "\n",
       "    .dataframe thead th {\n",
       "        text-align: right;\n",
       "    }\n",
       "</style>\n",
       "<table border=\"1\" class=\"dataframe\">\n",
       "  <thead>\n",
       "    <tr style=\"text-align: right;\">\n",
       "      <th></th>\n",
       "      <th>url жалобы</th>\n",
       "      <th>Заголовок</th>\n",
       "      <th>Статус</th>\n",
       "      <th>Текст</th>\n",
       "      <th>Время</th>\n",
       "      <th>Оценка</th>\n",
       "      <th>Оценка выплат</th>\n",
       "    </tr>\n",
       "  </thead>\n",
       "  <tbody>\n",
       "    <tr>\n",
       "      <th>0</th>\n",
       "      <td>/investment/responses/company/response/31338/</td>\n",
       "      <td>Отзыв про доверительное управление</td>\n",
       "      <td>Проверяется</td>\n",
       "      <td>Не экономист и не финансист, но очень уж хотел...</td>\n",
       "      <td>17.09.2023</td>\n",
       "      <td>5</td>\n",
       "      <td>None</td>\n",
       "    </tr>\n",
       "    <tr>\n",
       "      <th>1</th>\n",
       "      <td>/investment/responses/company/response/31331/</td>\n",
       "      <td>Решили проблему с комиссией</td>\n",
       "      <td>Проверяется</td>\n",
       "      <td>Торгую через БКС уже третий год, я проффинанси...</td>\n",
       "      <td>16.09.2023</td>\n",
       "      <td>5</td>\n",
       "      <td>None</td>\n",
       "    </tr>\n",
       "    <tr>\n",
       "      <th>2</th>\n",
       "      <td>/investment/responses/company/response/31320/</td>\n",
       "      <td>Выбрал стратегию доверительного управления</td>\n",
       "      <td>Проверяется</td>\n",
       "      <td>Давно хотел попробовать доверительное управлен...</td>\n",
       "      <td>15.09.2023</td>\n",
       "      <td>4</td>\n",
       "      <td>None</td>\n",
       "    </tr>\n",
       "    <tr>\n",
       "      <th>3</th>\n",
       "      <td>/investment/responses/company/response/31303/</td>\n",
       "      <td>Помогли перевести бумаги от другого брокера</td>\n",
       "      <td>Проверяется</td>\n",
       "      <td>Перестали устраивать тарифы у моего брокера, р...</td>\n",
       "      <td>15.09.2023</td>\n",
       "      <td>4</td>\n",
       "      <td>None</td>\n",
       "    </tr>\n",
       "    <tr>\n",
       "      <th>4</th>\n",
       "      <td>/investment/responses/company/response/31295/</td>\n",
       "      <td>Мой опыт работы с брокерами или почему выбрала...</td>\n",
       "      <td>Проверяется</td>\n",
       "      <td>БКС сейчас один из самых отличных брокеров, ос...</td>\n",
       "      <td>14.09.2023</td>\n",
       "      <td>4</td>\n",
       "      <td>None</td>\n",
       "    </tr>\n",
       "  </tbody>\n",
       "</table>\n",
       "</div>"
      ],
      "text/plain": [
       "                                      url жалобы  \\\n",
       "0  /investment/responses/company/response/31338/   \n",
       "1  /investment/responses/company/response/31331/   \n",
       "2  /investment/responses/company/response/31320/   \n",
       "3  /investment/responses/company/response/31303/   \n",
       "4  /investment/responses/company/response/31295/   \n",
       "\n",
       "                                           Заголовок       Статус  \\\n",
       "0                 Отзыв про доверительное управление  Проверяется   \n",
       "1                        Решили проблему с комиссией  Проверяется   \n",
       "2         Выбрал стратегию доверительного управления  Проверяется   \n",
       "3        Помогли перевести бумаги от другого брокера  Проверяется   \n",
       "4  Мой опыт работы с брокерами или почему выбрала...  Проверяется   \n",
       "\n",
       "                                               Текст       Время Оценка  \\\n",
       "0  Не экономист и не финансист, но очень уж хотел...  17.09.2023      5   \n",
       "1  Торгую через БКС уже третий год, я проффинанси...  16.09.2023      5   \n",
       "2  Давно хотел попробовать доверительное управлен...  15.09.2023      4   \n",
       "3  Перестали устраивать тарифы у моего брокера, р...  15.09.2023      4   \n",
       "4  БКС сейчас один из самых отличных брокеров, ос...  14.09.2023      4   \n",
       "\n",
       "  Оценка выплат  \n",
       "0          None  \n",
       "1          None  \n",
       "2          None  \n",
       "3          None  \n",
       "4          None  "
      ]
     },
     "execution_count": 8,
     "metadata": {},
     "output_type": "execute_result"
    }
   ],
   "source": [
    "df = pd.DataFrame(columns=[\n",
    "    'url жалобы', 'Заголовок', 'Статус', 'Текст', 'Время', 'Оценка', 'Оценка выплат',\n",
    "])\n",
    "\n",
    "for article in soup.findAll('article'):\n",
    "    try:\n",
    "        href = article.find('a', {'data-test': 'responses-header'}).get('href')\n",
    "        header = article.find('a', {'data-test': 'responses-header'}).text\n",
    "        text = article.find('div', {'class':'responses__item__message markup-inside-small markup-inside-small--bullet'}).text.strip()\n",
    "        time = article.find('time', {'data-test': 'responses-datetime'}).text.split()[0]\n",
    "\n",
    "        try:\n",
    "            rating = article.find('span', {'data-test': 'responses-rating-grade'}).text.strip()\n",
    "        except:\n",
    "            rating = None\n",
    "        try:\n",
    "            rating_payouts = article.find('strong', {'class': 'font-size-medium'}).text.strip()\n",
    "        except:\n",
    "            rating_payouts = None\n",
    "        try:\n",
    "            rating_status = article.find('span', {'data-test': 'responses-status'}).text.strip()\n",
    "        except:\n",
    "            rating_status = None\n",
    "\n",
    "        row = [href, header, rating_status, text, time, rating, rating_payouts]\n",
    "\n",
    "        df.loc[len(df)] = row\n",
    "    except:\n",
    "        pass\n",
    "    \n",
    "df.head()"
   ]
  },
  {
   "cell_type": "markdown",
   "metadata": {},
   "source": [
    "### Объединенный код "
   ]
  },
  {
   "cell_type": "code",
   "execution_count": 15,
   "metadata": {},
   "outputs": [
    {
     "name": "stdout",
     "output_type": "stream",
     "text": [
      "alfa-direkt\n",
      "1\n",
      "2\n",
      "3\n",
      "4\n",
      "5\n",
      "6\n",
      "7\n",
      "8\n",
      "9\n",
      "10\n",
      "11\n",
      "12\n",
      "13\n",
      "14\n",
      "15\n",
      "16\n",
      "17\n",
      "18\n",
      "19\n",
      "bks\n",
      "1\n",
      "2\n",
      "3\n",
      "4\n",
      "5\n",
      "6\n",
      "7\n",
      "8\n",
      "9\n",
      "10\n",
      "11\n",
      "12\n",
      "13\n",
      "14\n",
      "15\n",
      "16\n",
      "17\n",
      "18\n",
      "19\n",
      "20\n",
      "21\n",
      "22\n",
      "23\n",
      "24\n",
      "25\n",
      "26\n",
      "27\n",
      "28\n",
      "29\n",
      "tcs\n",
      "1\n",
      "2\n",
      "3\n",
      "4\n",
      "5\n",
      "6\n",
      "7\n",
      "8\n",
      "9\n",
      "10\n",
      "11\n",
      "12\n",
      "13\n",
      "14\n",
      "15\n",
      "16\n",
      "17\n",
      "18\n",
      "19\n",
      "20\n",
      "21\n",
      "22\n",
      "23\n",
      "24\n",
      "25\n",
      "26\n",
      "27\n",
      "28\n",
      "29\n",
      "30\n",
      "31\n",
      "32\n",
      "33\n",
      "34\n",
      "35\n",
      "36\n",
      "37\n",
      "38\n",
      "39\n",
      "40\n",
      "41\n",
      "42\n",
      "43\n",
      "44\n",
      "45\n",
      "46\n",
      "47\n",
      "48\n",
      "49\n",
      "50\n",
      "51\n",
      "52\n",
      "53\n",
      "54\n",
      "55\n",
      "56\n",
      "57\n",
      "58\n",
      "59\n",
      "60\n",
      "61\n",
      "62\n",
      "63\n",
      "64\n",
      "65\n",
      "66\n",
      "67\n",
      "68\n",
      "69\n",
      "70\n",
      "71\n",
      "72\n",
      "73\n",
      "74\n",
      "75\n",
      "76\n",
      "vtb\n",
      "1\n",
      "2\n",
      "3\n",
      "4\n",
      "5\n",
      "6\n",
      "7\n",
      "8\n",
      "9\n",
      "10\n",
      "11\n",
      "12\n",
      "13\n",
      "14\n",
      "15\n",
      "16\n",
      "17\n",
      "18\n",
      "19\n",
      "3510\n"
     ]
    }
   ],
   "source": [
    "ssl._create_default_https_context = ssl._create_unverified_context # чтобы\n",
    "\n",
    "base_url = 'https://banki.ru/'\n",
    "\n",
    "companies = {\n",
    "    'alfa-direkt': {\n",
    "        'pages': 18,\n",
    "        'url': 'investment/responses/company/broker/alfa-direkt',\n",
    "    },\n",
    "    'bks': {\n",
    "        'pages': 28,  \n",
    "        'url': 'investment/responses/company/broker/bks',\n",
    "    }, # СБСЖ \n",
    "    'tcs': {\n",
    "        'pages': 75,\n",
    "        'url': 'investment/responses/company/broker/tcs',\n",
    "    }, # СБС \n",
    "    'vtb': {\n",
    "        'pages': 18,\n",
    "        'url': 'investment/responses/company/broker/vtb',\n",
    "    }, # СБС \n",
    "\n",
    "}\n",
    "\n",
    "page_url = '?page='\n",
    "\n",
    "df = pd.DataFrame(columns=[\n",
    "    'Компания', 'url жалобы', 'Заголовок', 'Статус', 'Текст', 'Время', 'Оценка', 'Оценка выплат',\n",
    "])\n",
    "\n",
    "for company in companies.keys():\n",
    "    print(company)\n",
    "\n",
    "    company_url = companies[company]['url']\n",
    "    r = requests.get(base_url + company_url)\n",
    "    soup = BeautifulSoup(r.text)\n",
    "\n",
    "    pages = companies[company]['pages']\n",
    "\n",
    "    for page in tqdm(range(1, pages + 2)):\n",
    "        t.sleep(2)\n",
    "        print(page)\n",
    "\n",
    "        for article in soup.findAll('article'):\n",
    "            try:\n",
    "                href = article.find('a', {'data-test': 'responses-header'}).get('href')\n",
    "                header = article.find('a', {'data-test': 'responses-header'}).text\n",
    "                text = article.find('div', {'class':'responses__item__message markup-inside-small markup-inside-small--bullet'}).text.strip()\n",
    "                time = article.find('time', {'data-test': 'responses-datetime'}).text.split()[0]\n",
    "\n",
    "                try:\n",
    "                    rating = article.find('span', {'data-test': 'responses-rating-grade'}).text.strip()\n",
    "                except:\n",
    "                    rating = None\n",
    "                try:\n",
    "                    rating_payouts = article.find('strong', {'class': 'font-size-medium'}).text.strip()\n",
    "                except:\n",
    "                    rating_payouts = None\n",
    "                try:\n",
    "                    rating_status = article.find('span', {'data-test': 'responses-status'}).text.strip()\n",
    "                except:\n",
    "                    rating_status = None\n",
    "\n",
    "                row = [company, base_url+href[1:], header, rating_status, text, time, rating, rating_payouts]\n",
    "\n",
    "                df.loc[len(df)] = row\n",
    "                # print(df)\n",
    "            except:\n",
    "                print('Error')\n",
    "\n",
    "        # Взятие следующей страницы\n",
    "        try:\n",
    "            if page <= pages:\n",
    "                r = requests.get(base_url + company_url + page_url + str(page))\n",
    "                soup = BeautifulSoup(r.text, features='lxml')\n",
    "        except:\n",
    "            pass\n",
    "\n",
    "print(len(df))\n",
    "df.to_pickle('Отзывы_инвестирование.pkl')\n",
    "# df.to_excel('Отзывы_страхование.xlsx')"
   ]
  },
  {
   "cell_type": "code",
   "execution_count": 17,
   "metadata": {},
   "outputs": [],
   "source": [
    "df1 = pd.read_pickle('Отзывы_инвестирование.pkl')"
   ]
  },
  {
   "cell_type": "code",
   "execution_count": 19,
   "metadata": {},
   "outputs": [
    {
     "data": {
      "text/plain": [
       "Компания            0\n",
       "url жалобы          0\n",
       "Заголовок           0\n",
       "Статус            266\n",
       "Текст               0\n",
       "Время               0\n",
       "Оценка            266\n",
       "Оценка выплат    3510\n",
       "dtype: int64"
      ]
     },
     "execution_count": 19,
     "metadata": {},
     "output_type": "execute_result"
    }
   ],
   "source": [
    "df1.isnull().sum()"
   ]
  },
  {
   "cell_type": "code",
   "execution_count": 23,
   "metadata": {},
   "outputs": [
    {
     "data": {
      "text/plain": [
       "Оценка\n",
       "5         1070\n",
       "1          562\n",
       "2           69\n",
       "4           49\n",
       "3           18\n",
       "dtype: int64"
      ]
     },
     "execution_count": 23,
     "metadata": {},
     "output_type": "execute_result"
    }
   ],
   "source": [
    "df1[['Оценка']][df1.Компания=='tcs'].value_counts()"
   ]
  },
  {
   "cell_type": "code",
   "execution_count": 24,
   "metadata": {},
   "outputs": [
    {
     "data": {
      "text/plain": [
       "Статус         \n",
       "Не засчитана       984\n",
       "                   478\n",
       "Проверяется        200\n",
       "Проблема решена    106\n",
       "dtype: int64"
      ]
     },
     "execution_count": 24,
     "metadata": {},
     "output_type": "execute_result"
    }
   ],
   "source": [
    "df1[['Статус']][df1.Компания=='tcs'].value_counts()"
   ]
  }
 ],
 "metadata": {
  "kernelspec": {
   "display_name": "Python 3",
   "language": "python",
   "name": "python3"
  },
  "language_info": {
   "codemirror_mode": {
    "name": "ipython",
    "version": 3
   },
   "file_extension": ".py",
   "mimetype": "text/x-python",
   "name": "python",
   "nbconvert_exporter": "python",
   "pygments_lexer": "ipython3",
   "version": "3.10.4"
  }
 },
 "nbformat": 4,
 "nbformat_minor": 4
}
